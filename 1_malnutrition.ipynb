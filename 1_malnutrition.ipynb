{
 "cells": [
  {
   "cell_type": "code",
   "execution_count": 1,
   "metadata": {},
   "outputs": [],
   "source": [
    "import numpy as np\n",
    "import pandas as pd\n",
    "import matplotlib.pyplot as plt "
   ]
  },
  {
   "cell_type": "code",
   "execution_count": 16,
   "metadata": {},
   "outputs": [],
   "source": [
    "df_country = pd.read_csv(r'C:/Users/THANGAVEL/Desktop/country-wise-average.csv')\n",
    "df_mal = pd.read_csv(r'C:/Users/THANGAVEL/Desktop/malnutrition-estimates.csv')"
   ]
  },
  {
   "cell_type": "code",
   "execution_count": 5,
   "metadata": {},
   "outputs": [
    {
     "data": {
      "text/html": [
       "<div>\n",
       "<style scoped>\n",
       "    .dataframe tbody tr th:only-of-type {\n",
       "        vertical-align: middle;\n",
       "    }\n",
       "\n",
       "    .dataframe tbody tr th {\n",
       "        vertical-align: top;\n",
       "    }\n",
       "\n",
       "    .dataframe thead th {\n",
       "        text-align: right;\n",
       "    }\n",
       "</style>\n",
       "<table border=\"1\" class=\"dataframe\">\n",
       "  <thead>\n",
       "    <tr style=\"text-align: right;\">\n",
       "      <th></th>\n",
       "      <th>Country</th>\n",
       "      <th>Income Classification</th>\n",
       "      <th>Severe Wasting</th>\n",
       "      <th>Wasting</th>\n",
       "      <th>Overweight</th>\n",
       "      <th>Stunting</th>\n",
       "      <th>Underweight</th>\n",
       "      <th>U5 Population ('000s)</th>\n",
       "    </tr>\n",
       "  </thead>\n",
       "  <tbody>\n",
       "    <tr>\n",
       "      <th>0</th>\n",
       "      <td>AFGHANISTAN</td>\n",
       "      <td>0.0</td>\n",
       "      <td>3.033333</td>\n",
       "      <td>10.350000</td>\n",
       "      <td>5.125000</td>\n",
       "      <td>47.775000</td>\n",
       "      <td>30.375000</td>\n",
       "      <td>4918.561500</td>\n",
       "    </tr>\n",
       "    <tr>\n",
       "      <th>1</th>\n",
       "      <td>ALBANIA</td>\n",
       "      <td>2.0</td>\n",
       "      <td>4.075000</td>\n",
       "      <td>7.760000</td>\n",
       "      <td>20.800000</td>\n",
       "      <td>24.160000</td>\n",
       "      <td>7.700000</td>\n",
       "      <td>232.859800</td>\n",
       "    </tr>\n",
       "    <tr>\n",
       "      <th>2</th>\n",
       "      <td>ALGERIA</td>\n",
       "      <td>2.0</td>\n",
       "      <td>2.733333</td>\n",
       "      <td>5.942857</td>\n",
       "      <td>12.833333</td>\n",
       "      <td>19.571429</td>\n",
       "      <td>7.342857</td>\n",
       "      <td>3565.213143</td>\n",
       "    </tr>\n",
       "    <tr>\n",
       "      <th>3</th>\n",
       "      <td>ANGOLA</td>\n",
       "      <td>1.0</td>\n",
       "      <td>2.400000</td>\n",
       "      <td>6.933333</td>\n",
       "      <td>2.550000</td>\n",
       "      <td>42.633333</td>\n",
       "      <td>23.600000</td>\n",
       "      <td>3980.054000</td>\n",
       "    </tr>\n",
       "    <tr>\n",
       "      <th>4</th>\n",
       "      <td>ARGENTINA</td>\n",
       "      <td>2.0</td>\n",
       "      <td>0.200000</td>\n",
       "      <td>2.150000</td>\n",
       "      <td>11.125000</td>\n",
       "      <td>10.025000</td>\n",
       "      <td>2.600000</td>\n",
       "      <td>3613.651750</td>\n",
       "    </tr>\n",
       "  </tbody>\n",
       "</table>\n",
       "</div>"
      ],
      "text/plain": [
       "       Country  Income Classification  Severe Wasting    Wasting  Overweight  \\\n",
       "0  AFGHANISTAN                    0.0        3.033333  10.350000    5.125000   \n",
       "1      ALBANIA                    2.0        4.075000   7.760000   20.800000   \n",
       "2      ALGERIA                    2.0        2.733333   5.942857   12.833333   \n",
       "3       ANGOLA                    1.0        2.400000   6.933333    2.550000   \n",
       "4    ARGENTINA                    2.0        0.200000   2.150000   11.125000   \n",
       "\n",
       "    Stunting  Underweight  U5 Population ('000s)  \n",
       "0  47.775000    30.375000            4918.561500  \n",
       "1  24.160000     7.700000             232.859800  \n",
       "2  19.571429     7.342857            3565.213143  \n",
       "3  42.633333    23.600000            3980.054000  \n",
       "4  10.025000     2.600000            3613.651750  "
      ]
     },
     "execution_count": 5,
     "metadata": {},
     "output_type": "execute_result"
    }
   ],
   "source": [
    "df_country.head()"
   ]
  },
  {
   "cell_type": "code",
   "execution_count": 6,
   "metadata": {},
   "outputs": [
    {
     "data": {
      "text/html": [
       "<div>\n",
       "<style scoped>\n",
       "    .dataframe tbody tr th:only-of-type {\n",
       "        vertical-align: middle;\n",
       "    }\n",
       "\n",
       "    .dataframe tbody tr th {\n",
       "        vertical-align: top;\n",
       "    }\n",
       "\n",
       "    .dataframe thead th {\n",
       "        text-align: right;\n",
       "    }\n",
       "</style>\n",
       "<table border=\"1\" class=\"dataframe\">\n",
       "  <thead>\n",
       "    <tr style=\"text-align: right;\">\n",
       "      <th></th>\n",
       "      <th>Unnamed: 0</th>\n",
       "      <th>ISO code</th>\n",
       "      <th>Country</th>\n",
       "      <th>Survey Year</th>\n",
       "      <th>Year</th>\n",
       "      <th>Income Classification</th>\n",
       "      <th>LDC</th>\n",
       "      <th>LIFD</th>\n",
       "      <th>LLDC or SID2</th>\n",
       "      <th>Survey Sample (N)</th>\n",
       "      <th>Severe Wasting</th>\n",
       "      <th>Wasting</th>\n",
       "      <th>Overweight</th>\n",
       "      <th>Stunting</th>\n",
       "      <th>Underweight</th>\n",
       "      <th>Notes</th>\n",
       "      <th>Report Author</th>\n",
       "      <th>Source</th>\n",
       "      <th>Short Source</th>\n",
       "      <th>U5 Population ('000s)</th>\n",
       "    </tr>\n",
       "  </thead>\n",
       "  <tbody>\n",
       "    <tr>\n",
       "      <th>0</th>\n",
       "      <td>0</td>\n",
       "      <td>AFG</td>\n",
       "      <td>AFGHANISTAN</td>\n",
       "      <td>1997</td>\n",
       "      <td>1997</td>\n",
       "      <td>0</td>\n",
       "      <td>1.0</td>\n",
       "      <td>1.0</td>\n",
       "      <td>1.0</td>\n",
       "      <td>4,846</td>\n",
       "      <td>NaN</td>\n",
       "      <td>18.2</td>\n",
       "      <td>6.5</td>\n",
       "      <td>53.2</td>\n",
       "      <td>44.9</td>\n",
       "      <td>Converted estimates</td>\n",
       "      <td>CIET International</td>\n",
       "      <td>Afghanistan 1997 multiple indicator baseline (...</td>\n",
       "      <td>MICS</td>\n",
       "      <td>3838.877</td>\n",
       "    </tr>\n",
       "    <tr>\n",
       "      <th>1</th>\n",
       "      <td>1</td>\n",
       "      <td>AFG</td>\n",
       "      <td>AFGHANISTAN</td>\n",
       "      <td>2004</td>\n",
       "      <td>2004</td>\n",
       "      <td>0</td>\n",
       "      <td>1.0</td>\n",
       "      <td>1.0</td>\n",
       "      <td>1.0</td>\n",
       "      <td>946</td>\n",
       "      <td>3.5</td>\n",
       "      <td>8.6</td>\n",
       "      <td>4.6</td>\n",
       "      <td>59.3</td>\n",
       "      <td>32.9</td>\n",
       "      <td>NaN</td>\n",
       "      <td>Ministry of Public Health (Afghanistan), UNICE...</td>\n",
       "      <td>Summary report of the national nutrition surve...</td>\n",
       "      <td>NNS</td>\n",
       "      <td>4789.353</td>\n",
       "    </tr>\n",
       "    <tr>\n",
       "      <th>2</th>\n",
       "      <td>2</td>\n",
       "      <td>AFG</td>\n",
       "      <td>AFGHANISTAN</td>\n",
       "      <td>2013</td>\n",
       "      <td>2013</td>\n",
       "      <td>0</td>\n",
       "      <td>1.0</td>\n",
       "      <td>1.0</td>\n",
       "      <td>1.0</td>\n",
       "      <td>44,26,469</td>\n",
       "      <td>4.0</td>\n",
       "      <td>9.5</td>\n",
       "      <td>5.3</td>\n",
       "      <td>40.4</td>\n",
       "      <td>24.6</td>\n",
       "      <td>NaN</td>\n",
       "      <td>Ministry of Public Health, UNICEF and the Aga ...</td>\n",
       "      <td>Afghanistan National Nutrition Survey 2013.</td>\n",
       "      <td>SMART</td>\n",
       "      <td>5444.573</td>\n",
       "    </tr>\n",
       "    <tr>\n",
       "      <th>3</th>\n",
       "      <td>3</td>\n",
       "      <td>AFG</td>\n",
       "      <td>AFGHANISTAN</td>\n",
       "      <td>2018</td>\n",
       "      <td>2018</td>\n",
       "      <td>0</td>\n",
       "      <td>1.0</td>\n",
       "      <td>1.0</td>\n",
       "      <td>1.0</td>\n",
       "      <td>NaN</td>\n",
       "      <td>1.6</td>\n",
       "      <td>5.1</td>\n",
       "      <td>4.1</td>\n",
       "      <td>38.2</td>\n",
       "      <td>19.1</td>\n",
       "      <td>NaN</td>\n",
       "      <td>KIT Royal Tropical Institute</td>\n",
       "      <td>Afghanistan Health Survey 2018</td>\n",
       "      <td>Other</td>\n",
       "      <td>5601.443</td>\n",
       "    </tr>\n",
       "    <tr>\n",
       "      <th>4</th>\n",
       "      <td>4</td>\n",
       "      <td>ALB</td>\n",
       "      <td>ALBANIA</td>\n",
       "      <td>1996-98</td>\n",
       "      <td>1997</td>\n",
       "      <td>2</td>\n",
       "      <td>0.0</td>\n",
       "      <td>0.0</td>\n",
       "      <td>0.0</td>\n",
       "      <td>7,642</td>\n",
       "      <td>NaN</td>\n",
       "      <td>8.1</td>\n",
       "      <td>9.5</td>\n",
       "      <td>20.4</td>\n",
       "      <td>7.1</td>\n",
       "      <td>Converted estimates</td>\n",
       "      <td>Institute of Public Health, Food and Nutrition...</td>\n",
       "      <td>National study on nutrition in Albania. Instit...</td>\n",
       "      <td>Other</td>\n",
       "      <td>309.225</td>\n",
       "    </tr>\n",
       "  </tbody>\n",
       "</table>\n",
       "</div>"
      ],
      "text/plain": [
       "   Unnamed: 0 ISO code      Country Survey Year  Year  Income Classification  \\\n",
       "0           0      AFG  AFGHANISTAN        1997  1997                      0   \n",
       "1           1      AFG  AFGHANISTAN        2004  2004                      0   \n",
       "2           2      AFG  AFGHANISTAN        2013  2013                      0   \n",
       "3           3      AFG  AFGHANISTAN        2018  2018                      0   \n",
       "4           4      ALB      ALBANIA     1996-98  1997                      2   \n",
       "\n",
       "   LDC  LIFD  LLDC or SID2 Survey Sample (N)  Severe Wasting  Wasting  \\\n",
       "0  1.0   1.0           1.0             4,846             NaN     18.2   \n",
       "1  1.0   1.0           1.0               946             3.5      8.6   \n",
       "2  1.0   1.0           1.0         44,26,469             4.0      9.5   \n",
       "3  1.0   1.0           1.0               NaN             1.6      5.1   \n",
       "4  0.0   0.0           0.0             7,642             NaN      8.1   \n",
       "\n",
       "   Overweight  Stunting  Underweight                Notes  \\\n",
       "0         6.5      53.2         44.9  Converted estimates   \n",
       "1         4.6      59.3         32.9                  NaN   \n",
       "2         5.3      40.4         24.6                  NaN   \n",
       "3         4.1      38.2         19.1                  NaN   \n",
       "4         9.5      20.4          7.1  Converted estimates   \n",
       "\n",
       "                                       Report Author  \\\n",
       "0                                 CIET International   \n",
       "1  Ministry of Public Health (Afghanistan), UNICE...   \n",
       "2  Ministry of Public Health, UNICEF and the Aga ...   \n",
       "3                       KIT Royal Tropical Institute   \n",
       "4  Institute of Public Health, Food and Nutrition...   \n",
       "\n",
       "                                              Source Short Source  \\\n",
       "0  Afghanistan 1997 multiple indicator baseline (...         MICS   \n",
       "1  Summary report of the national nutrition surve...          NNS   \n",
       "2        Afghanistan National Nutrition Survey 2013.        SMART   \n",
       "3                     Afghanistan Health Survey 2018        Other   \n",
       "4  National study on nutrition in Albania. Instit...        Other   \n",
       "\n",
       "   U5 Population ('000s)  \n",
       "0               3838.877  \n",
       "1               4789.353  \n",
       "2               5444.573  \n",
       "3               5601.443  \n",
       "4                309.225  "
      ]
     },
     "execution_count": 6,
     "metadata": {},
     "output_type": "execute_result"
    }
   ],
   "source": [
    "df_mal.head()"
   ]
  },
  {
   "cell_type": "code",
   "execution_count": 7,
   "metadata": {},
   "outputs": [
    {
     "data": {
      "text/plain": [
       "Index(['Country', 'Income Classification', 'Severe Wasting', 'Wasting',\n",
       "       'Overweight', 'Stunting', 'Underweight', 'U5 Population ('000s)'],\n",
       "      dtype='object')"
      ]
     },
     "execution_count": 7,
     "metadata": {},
     "output_type": "execute_result"
    }
   ],
   "source": [
    "df_country.columns"
   ]
  },
  {
   "cell_type": "code",
   "execution_count": 8,
   "metadata": {},
   "outputs": [
    {
     "data": {
      "text/plain": [
       "Index(['Unnamed: 0', 'ISO code', 'Country', 'Survey Year', 'Year',\n",
       "       'Income Classification', 'LDC', 'LIFD', 'LLDC or SID2',\n",
       "       'Survey Sample (N)', 'Severe Wasting', 'Wasting', 'Overweight',\n",
       "       'Stunting', 'Underweight', 'Notes', 'Report Author', 'Source',\n",
       "       'Short Source', 'U5 Population ('000s)'],\n",
       "      dtype='object')"
      ]
     },
     "execution_count": 8,
     "metadata": {},
     "output_type": "execute_result"
    }
   ],
   "source": [
    "df_mal.columns"
   ]
  },
  {
   "cell_type": "code",
   "execution_count": 93,
   "metadata": {},
   "outputs": [
    {
     "data": {
      "text/html": [
       "<div>\n",
       "<style scoped>\n",
       "    .dataframe tbody tr th:only-of-type {\n",
       "        vertical-align: middle;\n",
       "    }\n",
       "\n",
       "    .dataframe tbody tr th {\n",
       "        vertical-align: top;\n",
       "    }\n",
       "\n",
       "    .dataframe thead th {\n",
       "        text-align: right;\n",
       "    }\n",
       "</style>\n",
       "<table border=\"1\" class=\"dataframe\">\n",
       "  <thead>\n",
       "    <tr style=\"text-align: right;\">\n",
       "      <th></th>\n",
       "      <th>Country</th>\n",
       "      <th>Survey Year</th>\n",
       "      <th>Year</th>\n",
       "      <th>Income Classification</th>\n",
       "      <th>LDC</th>\n",
       "      <th>LIFD</th>\n",
       "      <th>LLDC or SID2</th>\n",
       "      <th>Survey Sample (N)</th>\n",
       "      <th>Severe Wasting</th>\n",
       "      <th>Wasting</th>\n",
       "      <th>Overweight</th>\n",
       "      <th>Stunting</th>\n",
       "      <th>Underweight</th>\n",
       "      <th>Notes</th>\n",
       "      <th>Report Author</th>\n",
       "      <th>Source</th>\n",
       "      <th>Short Source</th>\n",
       "      <th>U5 Population ('000s)</th>\n",
       "    </tr>\n",
       "  </thead>\n",
       "  <tbody>\n",
       "    <tr>\n",
       "      <th>1</th>\n",
       "      <td>AFGHANISTAN</td>\n",
       "      <td>2004</td>\n",
       "      <td>2004</td>\n",
       "      <td>0</td>\n",
       "      <td>1.0</td>\n",
       "      <td>1.0</td>\n",
       "      <td>1.0</td>\n",
       "      <td>946</td>\n",
       "      <td>3.5</td>\n",
       "      <td>8.6</td>\n",
       "      <td>4.6</td>\n",
       "      <td>59.3</td>\n",
       "      <td>32.9</td>\n",
       "      <td>NaN</td>\n",
       "      <td>Ministry of Public Health (Afghanistan), UNICE...</td>\n",
       "      <td>Summary report of the national nutrition surve...</td>\n",
       "      <td>NNS</td>\n",
       "      <td>4789.353</td>\n",
       "    </tr>\n",
       "    <tr>\n",
       "      <th>2</th>\n",
       "      <td>AFGHANISTAN</td>\n",
       "      <td>2013</td>\n",
       "      <td>2013</td>\n",
       "      <td>0</td>\n",
       "      <td>1.0</td>\n",
       "      <td>1.0</td>\n",
       "      <td>1.0</td>\n",
       "      <td>44,26,469</td>\n",
       "      <td>4.0</td>\n",
       "      <td>9.5</td>\n",
       "      <td>5.3</td>\n",
       "      <td>40.4</td>\n",
       "      <td>24.6</td>\n",
       "      <td>NaN</td>\n",
       "      <td>Ministry of Public Health, UNICEF and the Aga ...</td>\n",
       "      <td>Afghanistan National Nutrition Survey 2013.</td>\n",
       "      <td>SMART</td>\n",
       "      <td>5444.573</td>\n",
       "    </tr>\n",
       "    <tr>\n",
       "      <th>3</th>\n",
       "      <td>AFGHANISTAN</td>\n",
       "      <td>2018</td>\n",
       "      <td>2018</td>\n",
       "      <td>0</td>\n",
       "      <td>1.0</td>\n",
       "      <td>1.0</td>\n",
       "      <td>1.0</td>\n",
       "      <td>NaN</td>\n",
       "      <td>1.6</td>\n",
       "      <td>5.1</td>\n",
       "      <td>4.1</td>\n",
       "      <td>38.2</td>\n",
       "      <td>19.1</td>\n",
       "      <td>NaN</td>\n",
       "      <td>KIT Royal Tropical Institute</td>\n",
       "      <td>Afghanistan Health Survey 2018</td>\n",
       "      <td>Other</td>\n",
       "      <td>5601.443</td>\n",
       "    </tr>\n",
       "    <tr>\n",
       "      <th>4</th>\n",
       "      <td>ALBANIA</td>\n",
       "      <td>1996-98</td>\n",
       "      <td>1997</td>\n",
       "      <td>2</td>\n",
       "      <td>0.0</td>\n",
       "      <td>0.0</td>\n",
       "      <td>0.0</td>\n",
       "      <td>7,642</td>\n",
       "      <td>NaN</td>\n",
       "      <td>8.1</td>\n",
       "      <td>9.5</td>\n",
       "      <td>20.4</td>\n",
       "      <td>7.1</td>\n",
       "      <td>Converted estimates</td>\n",
       "      <td>Institute of Public Health, Food and Nutrition...</td>\n",
       "      <td>National study on nutrition in Albania. Instit...</td>\n",
       "      <td>Other</td>\n",
       "      <td>309.225</td>\n",
       "    </tr>\n",
       "    <tr>\n",
       "      <th>5</th>\n",
       "      <td>ALBANIA</td>\n",
       "      <td>2000</td>\n",
       "      <td>2000</td>\n",
       "      <td>2</td>\n",
       "      <td>0.0</td>\n",
       "      <td>0.0</td>\n",
       "      <td>0.0</td>\n",
       "      <td>1,382</td>\n",
       "      <td>6.2</td>\n",
       "      <td>12.2</td>\n",
       "      <td>30.1</td>\n",
       "      <td>39.2</td>\n",
       "      <td>17.0</td>\n",
       "      <td>NaN</td>\n",
       "      <td>National Institute of Statistics (Albania) and...</td>\n",
       "      <td>Multiple indicator cluster survey report Alban...</td>\n",
       "      <td>MICS</td>\n",
       "      <td>279.835</td>\n",
       "    </tr>\n",
       "  </tbody>\n",
       "</table>\n",
       "</div>"
      ],
      "text/plain": [
       "       Country Survey Year  Year  Income Classification  LDC  LIFD  \\\n",
       "1  AFGHANISTAN        2004  2004                      0  1.0   1.0   \n",
       "2  AFGHANISTAN        2013  2013                      0  1.0   1.0   \n",
       "3  AFGHANISTAN        2018  2018                      0  1.0   1.0   \n",
       "4      ALBANIA     1996-98  1997                      2  0.0   0.0   \n",
       "5      ALBANIA        2000  2000                      2  0.0   0.0   \n",
       "\n",
       "   LLDC or SID2 Survey Sample (N)  Severe Wasting  Wasting  Overweight  \\\n",
       "1           1.0               946             3.5      8.6         4.6   \n",
       "2           1.0         44,26,469             4.0      9.5         5.3   \n",
       "3           1.0               NaN             1.6      5.1         4.1   \n",
       "4           0.0             7,642             NaN      8.1         9.5   \n",
       "5           0.0             1,382             6.2     12.2        30.1   \n",
       "\n",
       "   Stunting  Underweight                Notes  \\\n",
       "1      59.3         32.9                  NaN   \n",
       "2      40.4         24.6                  NaN   \n",
       "3      38.2         19.1                  NaN   \n",
       "4      20.4          7.1  Converted estimates   \n",
       "5      39.2         17.0                  NaN   \n",
       "\n",
       "                                       Report Author  \\\n",
       "1  Ministry of Public Health (Afghanistan), UNICE...   \n",
       "2  Ministry of Public Health, UNICEF and the Aga ...   \n",
       "3                       KIT Royal Tropical Institute   \n",
       "4  Institute of Public Health, Food and Nutrition...   \n",
       "5  National Institute of Statistics (Albania) and...   \n",
       "\n",
       "                                              Source Short Source  \\\n",
       "1  Summary report of the national nutrition surve...          NNS   \n",
       "2        Afghanistan National Nutrition Survey 2013.        SMART   \n",
       "3                     Afghanistan Health Survey 2018        Other   \n",
       "4  National study on nutrition in Albania. Instit...        Other   \n",
       "5  Multiple indicator cluster survey report Alban...         MICS   \n",
       "\n",
       "   U5 Population ('000s)  \n",
       "1               4789.353  \n",
       "2               5444.573  \n",
       "3               5601.443  \n",
       "4                309.225  \n",
       "5                279.835  "
      ]
     },
     "execution_count": 93,
     "metadata": {},
     "output_type": "execute_result"
    }
   ],
   "source": [
    "df_mal = df_mal.iloc[:,1:]\n",
    "df_mal.head()"
   ]
  },
  {
   "cell_type": "code",
   "execution_count": 19,
   "metadata": {},
   "outputs": [
    {
     "name": "stdout",
     "output_type": "stream",
     "text": [
      "<class 'pandas.core.frame.DataFrame'>\n",
      "RangeIndex: 152 entries, 0 to 151\n",
      "Data columns (total 8 columns):\n",
      " #   Column                 Non-Null Count  Dtype  \n",
      "---  ------                 --------------  -----  \n",
      " 0   Country                152 non-null    object \n",
      " 1   Income Classification  152 non-null    float64\n",
      " 2   Severe Wasting         140 non-null    float64\n",
      " 3   Wasting                150 non-null    float64\n",
      " 4   Overweight             149 non-null    float64\n",
      " 5   Stunting               151 non-null    float64\n",
      " 6   Underweight            150 non-null    float64\n",
      " 7   U5 Population ('000s)  152 non-null    float64\n",
      "dtypes: float64(7), object(1)\n",
      "memory usage: 9.6+ KB\n"
     ]
    }
   ],
   "source": [
    "df_country.info()"
   ]
  },
  {
   "cell_type": "code",
   "execution_count": 20,
   "metadata": {},
   "outputs": [
    {
     "name": "stdout",
     "output_type": "stream",
     "text": [
      "<class 'pandas.core.frame.DataFrame'>\n",
      "RangeIndex: 923 entries, 1 to 923\n",
      "Data columns (total 19 columns):\n",
      " #   Column                 Non-Null Count  Dtype  \n",
      "---  ------                 --------------  -----  \n",
      " 0   ISO code               923 non-null    object \n",
      " 1   Country                923 non-null    object \n",
      " 2   Survey Year            923 non-null    object \n",
      " 3   Year                   923 non-null    int64  \n",
      " 4   Income Classification  923 non-null    int64  \n",
      " 5   LDC                    923 non-null    float64\n",
      " 6   LIFD                   923 non-null    float64\n",
      " 7   LLDC or SID2           923 non-null    float64\n",
      " 8   Survey Sample (N)      860 non-null    object \n",
      " 9   Severe Wasting         696 non-null    float64\n",
      " 10  Wasting                876 non-null    float64\n",
      " 11  Overweight             787 non-null    float64\n",
      " 12  Stunting               886 non-null    float64\n",
      " 13  Underweight            901 non-null    float64\n",
      " 14  Notes                  326 non-null    object \n",
      " 15  Report Author          923 non-null    object \n",
      " 16  Source                 923 non-null    object \n",
      " 17  Short Source           923 non-null    object \n",
      " 18  U5 Population ('000s)  923 non-null    float64\n",
      "dtypes: float64(9), int64(2), object(8)\n",
      "memory usage: 137.1+ KB\n"
     ]
    }
   ],
   "source": [
    "df_mal.info()"
   ]
  },
  {
   "cell_type": "code",
   "execution_count": 309,
   "metadata": {},
   "outputs": [],
   "source": [
    "#mean,median,mode functions for EDA\n",
    "def find_mean(df,x):\n",
    "    s = 0\n",
    "    for i in df:\n",
    "        s+=i\n",
    "    print(\"MEAN of %s : %.3f\"%(x,(s/len(df))))\n",
    "    \n",
    "def find_stdev(df,x):\n",
    "    s = 0\n",
    "    for i in df:\n",
    "        s+=i\n",
    "    m = s/len(df)\n",
    "    total = 0\n",
    "    for i in df:\n",
    "        total = total+((i-m)**2)\n",
    "    res = (total/len(df))**(1/2)\n",
    "    print(\"STDEV of %s : %.3f\"%(x,res))\n",
    "    \n",
    "def find_median(df,x):\n",
    "    df1 = df.sort_values(ascending = True)\n",
    "    mid = (len(df)+1)//2\n",
    "    print(\"MEDIAN of %s : %d\"%(x,df1[mid]))\n",
    "\n",
    "def find_mode(df,x):\n",
    "    dic = {}\n",
    "    for i in df:\n",
    "        if i not in dic:\n",
    "            dic[i] = 1\n",
    "        else:\n",
    "            dic[i] += 1\n",
    "    res = max(dic.values())\n",
    "    print(\"MODE of %s : %d\"%(x,res))\n",
    "    \n",
    "def find_quart(df,x,pos):\n",
    "    df1 = df.sort_values(ascending = True)\n",
    "    qar = pos*((len(df)+1)//4)\n",
    "    print(\"QUARTILE of %s : %d\"%(x,df1[qar]))"
   ]
  },
  {
   "cell_type": "code",
   "execution_count": 290,
   "metadata": {},
   "outputs": [],
   "source": [
    "#filling missing values in country averages(df_country)\n",
    "for i in df_country.columns:\n",
    "    if type(df_country[i][0]) == np.float64:\n",
    "        df_country[i]=df_country[i].fillna(df_country[i].mean())"
   ]
  },
  {
   "cell_type": "code",
   "execution_count": 291,
   "metadata": {},
   "outputs": [
    {
     "name": "stdout",
     "output_type": "stream",
     "text": [
      "<class 'pandas.core.frame.DataFrame'>\n",
      "RangeIndex: 152 entries, 0 to 151\n",
      "Data columns (total 8 columns):\n",
      " #   Column                 Non-Null Count  Dtype  \n",
      "---  ------                 --------------  -----  \n",
      " 0   Country                152 non-null    object \n",
      " 1   Income Classification  152 non-null    float64\n",
      " 2   Severe Wasting         152 non-null    float64\n",
      " 3   Wasting                152 non-null    float64\n",
      " 4   Overweight             152 non-null    float64\n",
      " 5   Stunting               152 non-null    float64\n",
      " 6   Underweight            152 non-null    float64\n",
      " 7   U5 Population ('000s)  152 non-null    float64\n",
      "dtypes: float64(7), object(1)\n",
      "memory usage: 9.6+ KB\n"
     ]
    }
   ],
   "source": [
    "df_country.info()"
   ]
  },
  {
   "cell_type": "code",
   "execution_count": 292,
   "metadata": {},
   "outputs": [],
   "source": [
    "#filling missing values in malnutrition (df_mal)\n",
    "df_mal = df_mal.fillna(df_mal.mean())"
   ]
  },
  {
   "cell_type": "code",
   "execution_count": 293,
   "metadata": {},
   "outputs": [
    {
     "name": "stdout",
     "output_type": "stream",
     "text": [
      "MEAN of Income Classification : 1.437\n",
      "MEAN of Severe Wasting : 2.163\n",
      "MEAN of Wasting : 6.574\n",
      "MEAN of Overweight : 7.202\n",
      "MEAN of Stunting : 25.815\n",
      "MEAN of Underweight : 13.503\n",
      "MEAN of U5 Population ('000s) : 4042.927\n"
     ]
    }
   ],
   "source": [
    "#finding mean for all possible rows(int and float) on country_average\n",
    "for i in df_country.columns:\n",
    "    if type(df_country[i][0]) == np.float64:\n",
    "        find_mean(df_country[i],i)"
   ]
  },
  {
   "cell_type": "code",
   "execution_count": 294,
   "metadata": {},
   "outputs": [
    {
     "name": "stdout",
     "output_type": "stream",
     "text": [
      "MEAN of Year : 2003.738\n",
      "MEAN of Income Classification : 1.242\n",
      "MEAN of LDC : 0.349\n",
      "MEAN of LIFD : 0.424\n",
      "MEAN of LLDC or SID2 : 0.455\n",
      "MEAN of Severe Wasting : 2.192\n",
      "MEAN of Wasting : 6.943\n",
      "MEAN of Overweight : 6.435\n",
      "MEAN of Stunting : 29.036\n",
      "MEAN of Underweight : 15.809\n",
      "MEAN of U5 Population ('000s) : 6185.244\n"
     ]
    }
   ],
   "source": [
    "#finding mean for all possible rows(int and float) in malnutrition\n",
    "for i in df_mal.columns:\n",
    "    if (type(df_mal[i][1]) == np.float64) or (type(df_mal[i][1]) == np.int64):\n",
    "        find_mean(df_mal[i],i)"
   ]
  },
  {
   "cell_type": "code",
   "execution_count": 295,
   "metadata": {},
   "outputs": [
    {
     "name": "stdout",
     "output_type": "stream",
     "text": [
      "MEDIAN of Income Classification : 0\n",
      "MEDIAN of Severe Wasting : 1\n",
      "MEDIAN of Wasting : 5\n",
      "MEDIAN of Overweight : 3\n",
      "MEDIAN of Stunting : 37\n",
      "MEDIAN of Underweight : 17\n",
      "MEDIAN of U5 Population ('000s) : 618\n"
     ]
    }
   ],
   "source": [
    "#finding median for all possible rows(int and float) on country_average\n",
    "for i in df_country.columns:\n",
    "    if type(df_country[i][0]) == np.float64:\n",
    "        find_median(df_country[i],i)"
   ]
  },
  {
   "cell_type": "code",
   "execution_count": 307,
   "metadata": {},
   "outputs": [
    {
     "name": "stdout",
     "output_type": "stream",
     "text": [
      "MEDIAN of Year : 2016\n",
      "MEDIAN of Income Classification : 0\n",
      "MEDIAN of LDC : 1\n",
      "MEDIAN of LIFD : 1\n",
      "MEDIAN of LLDC or SID2 : 0\n",
      "MEDIAN of Severe Wasting : 0\n",
      "MEDIAN of Wasting : 4\n",
      "MEDIAN of Overweight : 2\n",
      "MEDIAN of Stunting : 30\n",
      "MEDIAN of Underweight : 13\n",
      "MEDIAN of U5 Population ('000s) : 702\n"
     ]
    }
   ],
   "source": [
    "#finding median for all possible rows(int and float) in malnutrition\n",
    "for i in df_mal.columns:\n",
    "    if (type(df_mal[i][1]) == np.float64) or (type(df_mal[i][1]) == np.int64):\n",
    "        find_median(df_mal[i],i)"
   ]
  },
  {
   "cell_type": "code",
   "execution_count": 297,
   "metadata": {},
   "outputs": [
    {
     "name": "stdout",
     "output_type": "stream",
     "text": [
      "MODE of Income Classification : 54\n",
      "MODE of Severe Wasting : 12\n",
      "MODE of Wasting : 3\n",
      "MODE of Overweight : 3\n",
      "MODE of Stunting : 2\n",
      "MODE of Underweight : 2\n",
      "MODE of U5 Population ('000s) : 3\n"
     ]
    }
   ],
   "source": [
    "#finding mean for all possible rows(int and float) on country_average\n",
    "for i in df_country.columns:\n",
    "    if type(df_country[i][0]) == np.float64:\n",
    "        find_mode(df_country[i],i)"
   ]
  },
  {
   "cell_type": "code",
   "execution_count": 298,
   "metadata": {},
   "outputs": [
    {
     "name": "stdout",
     "output_type": "stream",
     "text": [
      "MODE of Year : 59\n",
      "MODE of Income Classification : 335\n",
      "MODE of LDC : 601\n",
      "MODE of LIFD : 532\n",
      "MODE of LLDC or SID2 : 606\n",
      "MODE of Severe Wasting : 227\n",
      "MODE of Wasting : 47\n",
      "MODE of Overweight : 136\n",
      "MODE of Stunting : 37\n",
      "MODE of Underweight : 22\n",
      "MODE of U5 Population ('000s) : 3\n"
     ]
    }
   ],
   "source": [
    "#finding mode for all possible rows(int and float) in malnutrition\n",
    "for i in df_mal.columns:\n",
    "    if (type(df_mal[i][1]) == np.float64) or (type(df_mal[i][1]) == np.int64):\n",
    "        find_mode(df_mal[i],i)"
   ]
  },
  {
   "cell_type": "code",
   "execution_count": 299,
   "metadata": {},
   "outputs": [
    {
     "name": "stdout",
     "output_type": "stream",
     "text": [
      "STDEV of Income Classification : 0.957\n",
      "STDEV of Severe Wasting : 1.633\n",
      "STDEV of Wasting : 4.427\n",
      "STDEV of Overweight : 4.588\n",
      "STDEV of Stunting : 14.590\n",
      "STDEV of Underweight : 10.788\n",
      "STDEV of U5 Population ('000s) : 13120.817\n"
     ]
    }
   ],
   "source": [
    "#finding standard deviation for all possible rows(int and float) on country_average\n",
    "for i in df_country.columns:\n",
    "    if type(df_country[i][0]) == np.float64:\n",
    "        find_stdev(df_country[i],i)"
   ]
  },
  {
   "cell_type": "code",
   "execution_count": 300,
   "metadata": {},
   "outputs": [
    {
     "name": "stdout",
     "output_type": "stream",
     "text": [
      "STDEV of Year : 8.790\n",
      "STDEV of Income Classification : 0.921\n",
      "STDEV of LDC : 0.477\n",
      "STDEV of LIFD : 0.494\n",
      "STDEV of LLDC or SID2 : 0.686\n",
      "STDEV of Severe Wasting : 1.660\n",
      "STDEV of Wasting : 4.895\n",
      "STDEV of Overweight : 4.283\n",
      "STDEV of Stunting : 15.494\n",
      "STDEV of Underweight : 12.323\n",
      "STDEV of U5 Population ('000s) : 16795.761\n"
     ]
    }
   ],
   "source": [
    "#finding standard deviation for all possible rows(int and float) in malnutrition\n",
    "for i in df_mal.columns:\n",
    "    if (type(df_mal[i][1]) == np.float64) or (type(df_mal[i][1]) == np.int64):\n",
    "        find_stdev(df_mal[i],i)"
   ]
  },
  {
   "cell_type": "code",
   "execution_count": 301,
   "metadata": {},
   "outputs": [
    {
     "name": "stdout",
     "output_type": "stream",
     "text": [
      "QUARTILE of Income Classification : 0\n",
      "QUARTILE of Severe Wasting : 1\n",
      "QUARTILE of Wasting : 8\n",
      "QUARTILE of Overweight : 1\n",
      "QUARTILE of Stunting : 40\n",
      "QUARTILE of Underweight : 23\n",
      "QUARTILE of U5 Population ('000s) : 1862\n"
     ]
    }
   ],
   "source": [
    "#finding 1st quartile(75%) for all possible rows(int and float) on country_average\n",
    "for i in df_country.columns:\n",
    "    if type(df_country[i][0]) == np.float64:\n",
    "        find_quart(df_country[i],i,1)"
   ]
  },
  {
   "cell_type": "code",
   "execution_count": 310,
   "metadata": {},
   "outputs": [
    {
     "name": "stdout",
     "output_type": "stream",
     "text": [
      "QUARTILE of Year : 2007\n",
      "QUARTILE of Income Classification : 2\n",
      "QUARTILE of LDC : 0\n",
      "QUARTILE of LIFD : 0\n",
      "QUARTILE of LLDC or SID2 : 2\n",
      "QUARTILE of Severe Wasting : 0\n",
      "QUARTILE of Wasting : 2\n",
      "QUARTILE of Overweight : 8\n",
      "QUARTILE of Stunting : 10\n",
      "QUARTILE of Underweight : 3\n",
      "QUARTILE of U5 Population ('000s) : 992\n"
     ]
    }
   ],
   "source": [
    "#finding 1st quartile(75%) for all possible rows(int and float) in malnutrition\n",
    "for i in df_mal.columns:\n",
    "    if (type(df_mal[i][1]) == np.float64) or (type(df_mal[i][1]) == np.int64):\n",
    "        find_quart(df_mal[i],i,1)"
   ]
  },
  {
   "cell_type": "code",
   "execution_count": 311,
   "metadata": {},
   "outputs": [
    {
     "name": "stdout",
     "output_type": "stream",
     "text": [
      "QUARTILE of Income Classification : 1\n",
      "QUARTILE of Severe Wasting : 2\n",
      "QUARTILE of Wasting : 7\n",
      "QUARTILE of Overweight : 9\n",
      "QUARTILE of Stunting : 28\n",
      "QUARTILE of Underweight : 11\n",
      "QUARTILE of U5 Population ('000s) : 25\n"
     ]
    }
   ],
   "source": [
    "#finding 1st quartile(25%) for all possible rows(int and float) on country_average\n",
    "for i in df_country.columns:\n",
    "    if type(df_country[i][0]) == np.float64:\n",
    "        find_quart(df_country[i],i,3)"
   ]
  },
  {
   "cell_type": "code",
   "execution_count": 312,
   "metadata": {},
   "outputs": [
    {
     "name": "stdout",
     "output_type": "stream",
     "text": [
      "QUARTILE of Year : 1996\n",
      "QUARTILE of Income Classification : 1\n",
      "QUARTILE of LDC : 1\n",
      "QUARTILE of LIFD : 1\n",
      "QUARTILE of LLDC or SID2 : 0\n",
      "QUARTILE of Severe Wasting : 2\n",
      "QUARTILE of Wasting : 8\n",
      "QUARTILE of Overweight : 6\n",
      "QUARTILE of Stunting : 28\n",
      "QUARTILE of Underweight : 19\n",
      "QUARTILE of U5 Population ('000s) : 1553\n"
     ]
    }
   ],
   "source": [
    "#finding 1st quartile(25%) for all possible rows(int and float) in malnutrition\n",
    "for i in df_mal.columns:\n",
    "    if (type(df_mal[i][1]) == np.float64) or (type(df_mal[i][1]) == np.int64):\n",
    "        find_quart(df_mal[i],i,3)"
   ]
  },
  {
   "cell_type": "code",
   "execution_count": null,
   "metadata": {},
   "outputs": [],
   "source": []
  }
 ],
 "metadata": {
  "kernelspec": {
   "display_name": "Python 3",
   "language": "python",
   "name": "python3"
  },
  "language_info": {
   "codemirror_mode": {
    "name": "ipython",
    "version": 3
   },
   "file_extension": ".py",
   "mimetype": "text/x-python",
   "name": "python",
   "nbconvert_exporter": "python",
   "pygments_lexer": "ipython3",
   "version": "3.8.3"
  }
 },
 "nbformat": 4,
 "nbformat_minor": 4
}
